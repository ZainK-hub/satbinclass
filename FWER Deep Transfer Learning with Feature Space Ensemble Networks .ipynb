{
 "cells": [
  {
   "cell_type": "markdown",
   "metadata": {},
   "source": [
    "# Family Wise Error Rate calculations\n",
    "\n",
    "Repository: https://github.com/ZainK-hub/satbinclass\n"
   ]
  },
  {
   "cell_type": "code",
   "execution_count": 9,
   "metadata": {},
   "outputs": [
    {
     "data": {
      "text/plain": [
       "True"
      ]
     },
     "execution_count": 9,
     "metadata": {},
     "output_type": "execute_result"
    }
   ],
   "source": [
    "5.0e-7 < 1.5e-6"
   ]
  },
  {
   "cell_type": "code",
   "execution_count": 11,
   "metadata": {},
   "outputs": [],
   "source": [
    "import numpy as np\n",
    "from scipy.stats import ttest_ind_from_stats\n",
    "from statsmodels.stats.multitest import multipletests"
   ]
  },
  {
   "cell_type": "markdown",
   "metadata": {},
   "source": [
    "### Table 2"
   ]
  },
  {
   "cell_type": "code",
   "execution_count": 120,
   "metadata": {},
   "outputs": [],
   "source": [
    "mu_s = [\n",
    "83.751,\n",
    "83.403,\n",
    "83.090,   \n",
    "82.221,   \n",
    "81.441,   \n",
    "81.041,   \n",
    "80.851,   \n",
    "80.677,   \n",
    "79.688,   \n",
    "78.803,   \n",
    "78.802,   \n",
    "71.078,   \n",
    "67.881,   \n",
    "65.608,   \n",
    "]\n",
    "var_s = [\n",
    " 1.503,\n",
    " 1.341,\n",
    " 1.271,\n",
    " 0.846,\n",
    " 1.285,\n",
    " 1.310,\n",
    " 5.161,\n",
    " 2.355,\n",
    " 2.954,\n",
    " 1.403,\n",
    " 1.579,\n",
    "30.288,\n",
    "24.456,\n",
    "41.338]\n",
    "nob_s = [20,]*len(var_s)"
   ]
  },
  {
   "cell_type": "code",
   "execution_count": 121,
   "metadata": {},
   "outputs": [],
   "source": [
    "pval_s = [ttest_ind_from_stats(alternative='greater',\n",
    "                               mean1=mu_s[0], std1=np.sqrt(var_s[0]), nobs1=nob_s[0],\n",
    "                               mean2=mu_si,   std2=np.sqrt(var_si),   nobs2=nob_si).pvalue \n",
    "          for mu_si, var_si, nob_si in zip(mu_s[:],var_s[:],nob_s[:])]"
   ]
  },
  {
   "cell_type": "code",
   "execution_count": 122,
   "metadata": {},
   "outputs": [
    {
     "data": {
      "text/plain": [
       "(array([False, False, False,  True,  True,  True,  True,  True,  True,\n",
       "         True,  True,  True,  True,  True]),\n",
       " array([5.00000000e-01, 3.29165297e-01, 1.20689707e-01, 1.39220750e-04,\n",
       "        9.46267917e-07, 4.87481236e-08, 3.07973275e-05, 8.63362438e-08,\n",
       "        8.35632563e-10, 1.01030295e-14, 2.26485497e-14, 1.47859502e-11,\n",
       "        1.55431223e-15, 3.54161145e-14]),\n",
       " 0.0036571031913835705,\n",
       " 0.0035714285714285718)"
      ]
     },
     "execution_count": 122,
     "metadata": {},
     "output_type": "execute_result"
    }
   ],
   "source": [
    "multipletests(pval_s, alpha=0.05, method='holm-sidak')"
   ]
  },
  {
   "cell_type": "markdown",
   "metadata": {},
   "source": [
    "### Table 3"
   ]
  },
  {
   "cell_type": "code",
   "execution_count": 138,
   "metadata": {},
   "outputs": [],
   "source": [
    "mu_s = [\n",
    "84.862,    \n",
    "84.672,\n",
    "84.585, \n",
    "84.410,    \n",
    "84.255,    \n",
    "84.047,    \n",
    "83.751,\n",
    "83.595,\n",
    "83.403,\n",
    "83.090    \n",
    "]\n",
    "var_s = [\n",
    "1.108,\n",
    "1.350,\n",
    "0.501,\n",
    "0.848,\n",
    "0.802,\n",
    "0.908,\n",
    "1.503,\n",
    "0.811,\n",
    "1.341,\n",
    "1.271    \n",
    "]\n",
    "nob_s = [20,]*len(var_s)"
   ]
  },
  {
   "cell_type": "code",
   "execution_count": 139,
   "metadata": {},
   "outputs": [],
   "source": [
    "pval_s = [ttest_ind_from_stats(alternative='greater',\n",
    "                               mean1=mu_s[0], std1=np.sqrt(var_s[0]), nobs1=nob_s[0],\n",
    "                               mean2=mu_si,   std2=np.sqrt(var_si),   nobs2=nob_si).pvalue \n",
    "          for mu_si, var_si, nob_si in zip(mu_s[:],var_s[:],nob_s[:])]"
   ]
  },
  {
   "cell_type": "code",
   "execution_count": 140,
   "metadata": {},
   "outputs": [
    {
     "data": {
      "text/plain": [
       "(array([False, False, False, False, False,  True,  True,  True,  True,\n",
       "         True]),\n",
       " array([5.03680626e-01, 5.03680626e-01, 4.22972156e-01, 2.78235124e-01,\n",
       "        1.34274823e-01, 4.21965387e-02, 1.35321375e-02, 8.62970231e-04,\n",
       "        7.65962854e-04, 4.31224509e-05]),\n",
       " 0.005116196891823743,\n",
       " 0.005)"
      ]
     },
     "execution_count": 140,
     "metadata": {},
     "output_type": "execute_result"
    }
   ],
   "source": [
    "multipletests(pval_s, alpha=0.05, method='holm-sidak')"
   ]
  },
  {
   "cell_type": "code",
   "execution_count": 95,
   "metadata": {},
   "outputs": [],
   "source": [
    "pval_s = [ttest_ind_from_stats(alternative='less', \n",
    "                               mean1=mu_s[6], std1=np.sqrt(var_s[6]), nobs1=nob_s[6],\n",
    "                               mean2=mu_si,   std2=np.sqrt(var_si),   nobs2=nob_si).pvalue \n",
    "          for mu_si, var_si, nob_si in zip(mu_s[:],var_s[:],nob_s[:])]"
   ]
  },
  {
   "cell_type": "code",
   "execution_count": 96,
   "metadata": {},
   "outputs": [
    {
     "data": {
      "text/plain": [
       "(array([ True, False, False, False, False, False, False, False]),\n",
       " array([0.01545029, 0.06639284, 0.17246353, 0.23631827, 0.26139108,\n",
       "        0.48729236, 0.75      , 0.75      ]),\n",
       " 0.006391150954545011,\n",
       " 0.00625)"
      ]
     },
     "execution_count": 96,
     "metadata": {},
     "output_type": "execute_result"
    }
   ],
   "source": [
    "multipletests(pval_s, alpha=0.05, method='holm-sidak')"
   ]
  },
  {
   "cell_type": "markdown",
   "metadata": {},
   "source": [
    "### Table 4"
   ]
  },
  {
   "cell_type": "code",
   "execution_count": 129,
   "metadata": {},
   "outputs": [],
   "source": [
    "mu_s = [\n",
    "84.862,\n",
    "84.723,\n",
    "84.324,\n",
    "84.063,\n",
    "83.994,\n",
    "83.751,\n",
    "83.751,\n",
    "83.472,\n",
    "83.403,\n",
    "83.090    \n",
    "\n",
    "]\n",
    "var_s = [\n",
    "1.374,\n",
    "1.690,\n",
    "1.872,\n",
    "1.739,\n",
    "1.421,\n",
    "1.503,\n",
    "1.667,\n",
    "1.224,\n",
    "1.341,\n",
    "1.271  \n",
    "]\n",
    "nob_s = [20,]*len(var_s)"
   ]
  },
  {
   "cell_type": "code",
   "execution_count": 130,
   "metadata": {},
   "outputs": [],
   "source": [
    "pval_s = [ttest_ind_from_stats(alternative='greater',\n",
    "                               mean1=mu_s[0], std1=np.sqrt(var_s[0]), nobs1=nob_s[0],\n",
    "                               mean2=mu_si,   std2=np.sqrt(var_si),   nobs2=nob_si).pvalue \n",
    "          for mu_si, var_si, nob_si in zip(mu_s[:],var_s[:],nob_s[:])]"
   ]
  },
  {
   "cell_type": "code",
   "execution_count": 131,
   "metadata": {},
   "outputs": [
    {
     "data": {
      "text/plain": [
       "(array([False, False, False, False, False,  True,  True,  True,  True,\n",
       "         True]),\n",
       " array([5.93247514e-01, 5.93247514e-01, 2.58387155e-01, 9.61475268e-02,\n",
       "        6.26109787e-02, 1.98394930e-02, 2.09349821e-02, 1.72279025e-03,\n",
       "        1.43009260e-03, 9.87291048e-05]),\n",
       " 0.005116196891823743,\n",
       " 0.005)"
      ]
     },
     "execution_count": 131,
     "metadata": {},
     "output_type": "execute_result"
    }
   ],
   "source": [
    "multipletests(pval_s, alpha=0.05, method='holm-sidak')"
   ]
  },
  {
   "cell_type": "markdown",
   "metadata": {},
   "source": [
    "### Table 5"
   ]
  },
  {
   "cell_type": "code",
   "execution_count": 132,
   "metadata": {},
   "outputs": [],
   "source": [
    "mu_s = [\n",
    "84.775,\n",
    "84.706,\n",
    "84.497,\n",
    "84.272,\n",
    "84.115,\n",
    "83.751,\n",
    "83.403,\n",
    "83.090 \n",
    "]\n",
    "var_s = [\n",
    "1.464,\n",
    "0.794,\n",
    "0.829,\n",
    "1.219,\n",
    "1.254,\n",
    "1.503,\n",
    "1.341,\n",
    "1.271 \n",
    "]\n",
    "nob_s = [20,]*len(var_s)"
   ]
  },
  {
   "cell_type": "code",
   "execution_count": 133,
   "metadata": {},
   "outputs": [],
   "source": [
    "pval_s = [ttest_ind_from_stats(alternative='greater',\n",
    "                               mean1=mu_s[0], std1=np.sqrt(var_s[0]), nobs1=nob_s[0],\n",
    "                               mean2=mu_si,   std2=np.sqrt(var_si),   nobs2=nob_si).pvalue \n",
    "          for mu_si, var_si, nob_si in zip(mu_s[:],var_s[:],nob_s[:])]"
   ]
  },
  {
   "cell_type": "code",
   "execution_count": 134,
   "metadata": {},
   "outputs": [
    {
     "data": {
      "text/plain": [
       "(array([False, False, False, False, False,  True,  True,  True]),\n",
       " array([6.62666753e-01, 6.62666753e-01, 5.03913875e-01, 3.10779265e-01,\n",
       "        1.87532651e-01, 3.37705399e-02, 2.64117898e-03, 2.09934512e-04]),\n",
       " 0.006391150954545011,\n",
       " 0.00625)"
      ]
     },
     "execution_count": 134,
     "metadata": {},
     "output_type": "execute_result"
    }
   ],
   "source": [
    "multipletests(pval_s, alpha=0.05, method='holm-sidak')"
   ]
  },
  {
   "cell_type": "markdown",
   "metadata": {},
   "source": [
    "### Table 6"
   ]
  },
  {
   "cell_type": "code",
   "execution_count": 135,
   "metadata": {},
   "outputs": [],
   "source": [
    "mu_s = [\n",
    "84.862,\n",
    "84.862,\n",
    "84.775,\n",
    "83.751,\n",
    "82.640,\n",
    "68.890,\n",
    "68.784,\n",
    "67.951,\n",
    "66.390,\n",
    "61.146,\n",
    "60.628,\n",
    "60.625,\n",
    "59.965,\n",
    "59.792,\n",
    "59.549,\n",
    "50.000,\n",
    "50.000,   \n",
    "]\n",
    "var_s = [\n",
    "1.108,\n",
    "1.374,\n",
    "1.464,\n",
    "1.503,\n",
    "1.700,\n",
    "1.770,\n",
    "0.897,\n",
    "1.285,\n",
    "6.151,\n",
    "3.791,\n",
    "2.901,\n",
    "2.365,\n",
    "1.233,\n",
    "2.431,\n",
    "2.256,\n",
    "0.000,\n",
    "0.000,\n",
    "]\n",
    "nob_s = [20,]*len(var_s)"
   ]
  },
  {
   "cell_type": "code",
   "execution_count": 136,
   "metadata": {},
   "outputs": [],
   "source": [
    "pval_s = [ttest_ind_from_stats(alternative='greater',\n",
    "                               mean1=mu_s[0], std1=np.sqrt(var_s[0]), nobs1=nob_s[0],\n",
    "                               mean2=mu_si,   std2=np.sqrt(var_si),   nobs2=nob_si).pvalue \n",
    "          for mu_si, var_si, nob_si in zip(mu_s[:],var_s[:],nob_s[:])]"
   ]
  },
  {
   "cell_type": "code",
   "execution_count": 137,
   "metadata": {},
   "outputs": [
    {
     "data": {
      "text/plain": [
       "(array([False, False, False,  True,  True,  True,  True,  True,  True,\n",
       "         True,  True,  True,  True,  True,  True,  True,  True]),\n",
       " array([7.89151426e-01, 7.89151426e-01, 7.89151426e-01, 7.75521839e-03,\n",
       "        1.77497281e-06, 0.00000000e+00, 0.00000000e+00, 0.00000000e+00,\n",
       "        0.00000000e+00, 0.00000000e+00, 0.00000000e+00, 0.00000000e+00,\n",
       "        0.00000000e+00, 0.00000000e+00, 0.00000000e+00, 0.00000000e+00,\n",
       "        0.00000000e+00]),\n",
       " 0.0030127052790058784,\n",
       " 0.0029411764705882353)"
      ]
     },
     "execution_count": 137,
     "metadata": {},
     "output_type": "execute_result"
    }
   ],
   "source": [
    "multipletests(pval_s, alpha=0.05, method='holm-sidak')"
   ]
  },
  {
   "cell_type": "markdown",
   "metadata": {},
   "source": [
    "### Table 7 K=10"
   ]
  },
  {
   "cell_type": "code",
   "execution_count": 144,
   "metadata": {},
   "outputs": [],
   "source": [
    "mu_s = [\n",
    "84.862,\n",
    "84.862,\n",
    "83.751,\n",
    "70.522,\n",
    "69.896,\n",
    "67.760,\n",
    "]\n",
    "var_s = [\n",
    "1.108,\n",
    "1.374,\n",
    "1.503,\n",
    "4.619,\n",
    "2.885,\n",
    "0.891,\n",
    "]\n",
    "nob_s = [20,]*len(var_s)"
   ]
  },
  {
   "cell_type": "code",
   "execution_count": 145,
   "metadata": {},
   "outputs": [],
   "source": [
    "pval_s = [ttest_ind_from_stats(alternative='greater',\n",
    "                               mean1=mu_s[0], std1=np.sqrt(var_s[0]), nobs1=nob_s[0],\n",
    "                               mean2=mu_si,   std2=np.sqrt(var_si),   nobs2=nob_si).pvalue \n",
    "          for mu_si, var_si, nob_si in zip(mu_s[:],var_s[:],nob_s[:])]"
   ]
  },
  {
   "cell_type": "code",
   "execution_count": 146,
   "metadata": {},
   "outputs": [
    {
     "data": {
      "text/plain": [
       "(array([False, False,  True,  True,  True,  True]),\n",
       " array([0.75      , 0.75      , 0.00582207, 0.        , 0.        ,\n",
       "        0.        ]),\n",
       " 0.008512444610847103,\n",
       " 0.008333333333333333)"
      ]
     },
     "execution_count": 146,
     "metadata": {},
     "output_type": "execute_result"
    }
   ],
   "source": [
    "multipletests(pval_s, alpha=0.05, method='holm-sidak')"
   ]
  },
  {
   "cell_type": "markdown",
   "metadata": {},
   "source": [
    "### Table 7 K=5"
   ]
  },
  {
   "cell_type": "code",
   "execution_count": 147,
   "metadata": {},
   "outputs": [],
   "source": [
    "mu_s = [\n",
    "85.139,\n",
    "84.932,\n",
    "83.507,\n",
    "69.514,\n",
    "69.237,\n",
    "67.640,\n",
    "]\n",
    "var_s = [\n",
    "1.012,\n",
    "1.049,\n",
    "1.774,\n",
    "3.506,\n",
    "5.901,\n",
    "1.122,\n",
    "]\n",
    "nob_s = [20,]*len(var_s)"
   ]
  },
  {
   "cell_type": "code",
   "execution_count": 148,
   "metadata": {},
   "outputs": [],
   "source": [
    "pval_s = [ttest_ind_from_stats(alternative='greater',\n",
    "                               mean1=mu_s[0], std1=np.sqrt(var_s[0]), nobs1=nob_s[0],\n",
    "                               mean2=mu_si,   std2=np.sqrt(var_si),   nobs2=nob_si).pvalue \n",
    "          for mu_si, var_si, nob_si in zip(mu_s[:],var_s[:],nob_s[:])]"
   ]
  },
  {
   "cell_type": "code",
   "execution_count": 149,
   "metadata": {},
   "outputs": [
    {
     "data": {
      "text/plain": [
       "(array([False, False,  True,  True,  True,  True]),\n",
       " array([5.00000000e-01, 4.54551603e-01, 1.38144455e-04, 0.00000000e+00,\n",
       "        0.00000000e+00, 0.00000000e+00]),\n",
       " 0.008512444610847103,\n",
       " 0.008333333333333333)"
      ]
     },
     "execution_count": 149,
     "metadata": {},
     "output_type": "execute_result"
    }
   ],
   "source": [
    "multipletests(pval_s, alpha=0.05, method='holm-sidak')"
   ]
  },
  {
   "cell_type": "markdown",
   "metadata": {},
   "source": [
    "### Table 7 K=2"
   ]
  },
  {
   "cell_type": "code",
   "execution_count": 150,
   "metadata": {},
   "outputs": [],
   "source": [
    "mu_s = [\n",
    "85.330,\n",
    "85.245,\n",
    "83.423,\n",
    "70.833,\n",
    "70.228,\n",
    "68.228,\n",
    "]\n",
    "var_s = [\n",
    "0.427,\n",
    "1.411,\n",
    "2.764,\n",
    "7.798,\n",
    "0.703,\n",
    "0.362,\n",
    "]\n",
    "nob_s = [20,]*len(var_s)"
   ]
  },
  {
   "cell_type": "code",
   "execution_count": 151,
   "metadata": {},
   "outputs": [],
   "source": [
    "pval_s = [ttest_ind_from_stats(alternative='greater',\n",
    "                               mean1=mu_s[0], std1=np.sqrt(var_s[0]), nobs1=nob_s[0],\n",
    "                               mean2=mu_si,   std2=np.sqrt(var_si),   nobs2=nob_si).pvalue \n",
    "          for mu_si, var_si, nob_si in zip(mu_s[:],var_s[:],nob_s[:])]"
   ]
  },
  {
   "cell_type": "code",
   "execution_count": 152,
   "metadata": {},
   "outputs": [
    {
     "data": {
      "text/plain": [
       "(array([False, False,  True,  True,  True,  True]),\n",
       " array([6.28326781e-01, 6.28326781e-01, 4.02127131e-05, 0.00000000e+00,\n",
       "        0.00000000e+00, 0.00000000e+00]),\n",
       " 0.008512444610847103,\n",
       " 0.008333333333333333)"
      ]
     },
     "execution_count": 152,
     "metadata": {},
     "output_type": "execute_result"
    }
   ],
   "source": [
    "multipletests(pval_s, alpha=0.05, method='holm-sidak')"
   ]
  }
 ],
 "metadata": {
  "kernelspec": {
   "display_name": "Python 3",
   "language": "python",
   "name": "python3"
  },
  "language_info": {
   "codemirror_mode": {
    "name": "ipython",
    "version": 3
   },
   "file_extension": ".py",
   "mimetype": "text/x-python",
   "name": "python",
   "nbconvert_exporter": "python",
   "pygments_lexer": "ipython3",
   "version": "3.6.10"
  }
 },
 "nbformat": 4,
 "nbformat_minor": 5
}
