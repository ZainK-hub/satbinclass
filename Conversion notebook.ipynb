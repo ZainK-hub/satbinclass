{
 "cells": [
  {
   "cell_type": "markdown",
   "metadata": {},
   "source": [
    "# Conversion notebook\n",
    "\n",
    "Repository: https://github.com/ZainK-hub/satbinclass\n",
    "\n",
    "This notebook uses the versions listed below of the following packages:\n",
    "* Python: 3.7.7\n",
    "* Numpy: 1.18.5\n",
    "* GDAL: 3.0.2"
   ]
  },
  {
   "cell_type": "markdown",
   "metadata": {},
   "source": [
    "## Introduction\n",
    "\n",
    "This notebook contains the code for data conversion from blobs of 5 images in .TIF files to blobs of 4 images in a Numpy database."
   ]
  },
  {
   "cell_type": "code",
   "execution_count": 15,
   "metadata": {},
   "outputs": [],
   "source": [
    "import numpy as np\n",
    "from osgeo import gdal, osr\n",
    "import cv2\n",
    "import glob\n",
    "import os"
   ]
  },
  {
   "cell_type": "markdown",
   "metadata": {},
   "source": [
    "## Data preprocessing\n",
    "\n",
    "The data needs to be set to 224 x 224 image size for use with ResNet and mst of the other models except for Inception-ResNetV2 which uses an image size of 299 x 299."
   ]
  },
  {
   "cell_type": "code",
   "execution_count": 16,
   "metadata": {},
   "outputs": [],
   "source": [
    "#Function returns image array\n",
    "def getImgArray(tif_name):\n",
    "    #Display displacement map of blob\n",
    "    data_tif = gdal.Open(tif_name, gdal.GA_ReadOnly)\n",
    "\n",
    "    bands = data_tif.RasterCount\n",
    "    cols = data_tif.RasterXSize\n",
    "    rows = data_tif.RasterYSize\n",
    "\n",
    "    band = data_tif.GetRasterBand(1)\n",
    "    img_array = band.ReadAsArray(0, 0, cols, rows)\n",
    "    img_array = cv2.resize(img_array, (img_size, img_size))\n",
    "    del data_tif\n",
    "    return img_array\n",
    "\n",
    "#Function generates RGB images.\n",
    "#It takes in the name of a merged scaled tif file\n",
    "def getRGBArray(sentinel2_tif_name):\n",
    "    sentinel2_img = gdal.Open(sentinel2_tif_name, gdal.GA_ReadOnly)\n",
    "\n",
    "    bands = sentinel2_img.RasterCount\n",
    "    cols = sentinel2_img.RasterXSize\n",
    "    rows = sentinel2_img.RasterYSize\n",
    "\n",
    "    band_blue = sentinel2_img.GetRasterBand(3)\n",
    "    img_blue = band_blue.ReadAsArray(0, 0, cols, rows)\n",
    "\n",
    "    band_green = sentinel2_img.GetRasterBand(2)\n",
    "    img_green = band_green.ReadAsArray(0, 0, cols, rows)\n",
    "\n",
    "    band_red = sentinel2_img.GetRasterBand(1)\n",
    "    img_red = band_red.ReadAsArray(0, 0, cols, rows)\n",
    "\n",
    "    img_rgb = np.zeros((rows,cols,3))\n",
    "    img_rgb[:,:,0] = img_red\n",
    "    img_rgb[:,:,1] = img_green \n",
    "    img_rgb[:,:,2] = img_blue\n",
    "\n",
    "    #Clip image to make it brighter, convert to 0 to 255\n",
    "    img_rgb = ((np.clip(img_rgb,0,255))).astype('uint8')\n",
    "    img_rgb = cv2.resize(img_rgb, (img_size, img_size))\n",
    "    del sentinel2_img\n",
    "    return img_rgb"
   ]
  },
  {
   "cell_type": "code",
   "execution_count": 17,
   "metadata": {},
   "outputs": [],
   "source": [
    "#Function to read in data.\n",
    "def populateData(folder_path, fill_start, fill_stop, blobs_range):\n",
    "    disp_list = sorted(glob.glob('./' + folder_path + '/*Disp*.tif'), key=os.path.getmtime)\n",
    "    phase_list = sorted(glob.glob('./' + folder_path + '/*Phase*.tif'), key=os.path.getmtime)\n",
    "    coh_list = sorted(glob.glob('./' + folder_path + '/*Coh*.tif'), key=os.path.getmtime)\n",
    "    sentinel2_list1 = sorted(glob.glob('./' + folder_path + '/*Sentinel2A_Img1*.tif'), key=os.path.getmtime)\n",
    "    sentinel2_list2 = sorted(glob.glob('./' + folder_path + '/*Sentinel2A_Img2*.tif'), key=os.path.getmtime)\n",
    "    \n",
    "    fill_index = fill_start\n",
    "    for blob_no in range(blobs_range):\n",
    "        img_disp = getImgArray(disp_list[blob_no])\n",
    "        img_phase = getImgArray(phase_list[blob_no])\n",
    "        img_coh = getImgArray(coh_list[blob_no])\n",
    "        img_sentinel2_rgb1 = getRGBArray(sentinel2_list1[blob_no])\n",
    "        img_sentinel2_rgb2 = getRGBArray(sentinel2_list2[blob_no])\n",
    "        \n",
    "        img_sentinel2_hsv1 = cv2.cvtColor(img_sentinel2_rgb1, cv2.COLOR_RGB2HSV)\n",
    "        img_sentinel2_hsv2 = cv2.cvtColor(img_sentinel2_rgb2, cv2.COLOR_RGB2HSV)\n",
    "    \n",
    "        \n",
    "        if np.isnan(np.sum(img_disp)) == True or np.isnan(np.sum(img_phase)) == True or np.isnan(np.sum(img_coh)) ==True \\\n",
    "        or np.isnan(np.sum(img_sentinel2_hsv1)) == True or np.isnan(np.sum(img_sentinel2_hsv2)) == True:\n",
    "            print('Warning: Data contains NaN: ', disp_list[blob_no])\n",
    "\n",
    "        X[:,:,0, fill_index] = img_disp\n",
    "        X[:,:,1, fill_index] = img_phase \n",
    "        X[:,:,2, fill_index] = img_coh\n",
    "        #X[:,:,3, fill_index] = img_sentinel2_rgb1[:,:,0]\n",
    "        #X[:,:,4, fill_index] = img_sentinel2_rgb1[:,:,1]\n",
    "        #X[:,:,5, fill_index] = img_sentinel2_rgb1[:,:,2]\n",
    "        X[:,:,3, fill_index] = img_sentinel2_rgb2[:,:,0]\n",
    "        X[:,:,4, fill_index] = img_sentinel2_rgb2[:,:,1]\n",
    "        X[:,:,5, fill_index] = img_sentinel2_rgb2[:,:,2]\n",
    "        \n",
    "        fill_index = fill_index + 1\n",
    "    if folder_path == 'data_pos':\n",
    "        y[fill_start:fill_stop,:] = 1 \n",
    "    else:\n",
    "        y[fill_start:fill_stop,:] = 0"
   ]
  },
  {
   "cell_type": "markdown",
   "metadata": {},
   "source": [
    "Download and unzip the *data.zip* folder from: https://drive.google.com/file/d/1sfxayXEWubLtgp-yZbZIgFVeLYi7aO0w/view?usp=sharing"
   ]
  },
  {
   "cell_type": "code",
   "execution_count": 18,
   "metadata": {},
   "outputs": [
    {
     "name": "stdout",
     "output_type": "stream",
     "text": [
      "Saving X:  (224, 224, 6, 1440)  and y: (1440, 1)\n",
      "Saving X:  (299, 299, 6, 1440)  and y: (1440, 1)\n"
     ]
    }
   ],
   "source": [
    "#Parameters, number of positive and negative blobs\n",
    "total_blobs = 1440\n",
    "\n",
    "#Number of images (bands) per blob: disp, phase, coherence, sentinel2 img1, sentinel2 img2\n",
    "no_images = 6\n",
    "#10% of input data is the size of the unseen Test dataset\n",
    "unseen_testing_size = 0.10\n",
    "\n",
    "#Resize the images to 224 x 224 for ResNet by using 224 as img_size,  \n",
    "#or resize the images to 299 x 299 for InceptionResnetV2 by using 299 as img_size.\n",
    "#Data Name, set name_data to '' for ResNet, or to 'inc_res_' for InceptionResnetV2.\n",
    "img_size = [224, 299]\n",
    "name_data = ['','inc_res_']\n",
    "params = zip(img_size, name_data)\n",
    "for img_sz, name_dat in params:\n",
    "    #Get mage dimensions\n",
    "    tif_list =  sorted(glob.glob('./data/data_pos/*.tif'))\n",
    "    disp_tif = gdal.Open(tif_list[0], gdal.GA_ReadOnly)\n",
    "    cols = disp_tif.RasterXSize\n",
    "\n",
    "    img_size = img_sz\n",
    "    name_data = name_dat\n",
    "\n",
    "    #Images are squares\n",
    "    X = np.zeros((img_size, img_size, no_images, total_blobs))\n",
    "    y = np.zeros((total_blobs, 1))\n",
    "    del disp_tif, tif_list\n",
    "\n",
    "    #Read in .TIF data in the respective folders for positive and negative blobs\n",
    "    populateData('data/data_pos', 0, round((total_blobs/2) - 1), round(total_blobs/2))\n",
    "    populateData('data/data_neg', round(total_blobs/2), total_blobs - 1, round(total_blobs/2))\n",
    "\n",
    "    #Save arrays X, y for use in the  notebook so they don't have to be read in again\n",
    "    np.save(name_data + 'X.npy', X)\n",
    "    np.save(name_data + 'y.npy', y)\n",
    "    print('Saving X: ', X.shape, ' and y: ' + str(y.shape))"
   ]
  }
 ],
 "metadata": {
  "kernelspec": {
   "display_name": "Python 3",
   "language": "python",
   "name": "python3"
  },
  "language_info": {
   "codemirror_mode": {
    "name": "ipython",
    "version": 3
   },
   "file_extension": ".py",
   "mimetype": "text/x-python",
   "name": "python",
   "nbconvert_exporter": "python",
   "pygments_lexer": "ipython3",
   "version": "3.6.10"
  }
 },
 "nbformat": 4,
 "nbformat_minor": 2
}
